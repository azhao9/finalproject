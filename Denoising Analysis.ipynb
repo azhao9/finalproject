{
 "cells": [
  {
   "cell_type": "code",
   "execution_count": 20,
   "metadata": {},
   "outputs": [],
   "source": [
    "import numpy as np\n",
    "import pandas as pd"
   ]
  },
  {
   "cell_type": "code",
   "execution_count": 33,
   "metadata": {},
   "outputs": [],
   "source": [
    "mrf_g = pd.read_csv('denoise/mrf_gaussian_results.txt', header=None)\n",
    "mrf_sp = pd.read_csv('denoise/mrf_saltpepper_results.txt', header=None)\n",
    "mrf_s = pd.read_csv('denoise/mrf_speckle_results.txt', header=None)\n",
    "\n",
    "mrf_g.columns = ['file', 'mrf_g']\n",
    "mrf_sp.columns = ['file', 'mrf_sp']\n",
    "mrf_s.columns = ['file', 'mrf_s']\n",
    "\n",
    "gibbs_g = pd.read_csv('denoise/gibbs_gaussian_results.txt', header=None)\n",
    "gibbs_sp = pd.read_csv('denoise/gibbs_saltpepper_results.txt', header=None)\n",
    "gibbs_s = pd.read_csv('denoise/gibbs_speckle_results.txt', header=None)\n",
    "\n",
    "gibbs_g.columns = ['file', 'gibbs_b']\n",
    "gibbs_sp.columns = ['file', 'gibbs_sp']\n",
    "gibbs_s.columns = ['file', 'gibbs_s']"
   ]
  },
  {
   "cell_type": "code",
   "execution_count": 15,
   "metadata": {},
   "outputs": [],
   "source": [
    "mrf = mrf_g.merge(mrf_sp, on='file').merge(mrf_s, on='file')\n",
    "gibbs = gibbs_g.merge(gibbs_sp, on='file').merge(gibbs_s, on='file')"
   ]
  },
  {
   "cell_type": "code",
   "execution_count": 32,
   "metadata": {},
   "outputs": [],
   "source": [
    "results = mrf.merge(gibbs, on='file')\n",
    "results = results.set_index('file')"
   ]
  },
  {
   "cell_type": "code",
   "execution_count": 23,
   "metadata": {},
   "outputs": [
    {
     "data": {
      "text/plain": [
       "file        0109398_RP-P-OB-84.282.jpg\n",
       "mrf_g                          13.4131\n",
       "mrf_sp                          12.601\n",
       "mrf_s                          13.7593\n",
       "gibbs_b                        14.4634\n",
       "gibbs_sp                       13.9554\n",
       "gibbs_s                        14.7869\n",
       "dtype: object"
      ]
     },
     "execution_count": 23,
     "metadata": {},
     "output_type": "execute_result"
    }
   ],
   "source": [
    "results.max()"
   ]
  },
  {
   "cell_type": "code",
   "execution_count": 29,
   "metadata": {},
   "outputs": [
    {
     "data": {
      "text/plain": [
       "mrf_g       5.377182\n",
       "mrf_sp      4.922935\n",
       "mrf_s       5.673140\n",
       "gibbs_b     5.948993\n",
       "gibbs_sp    5.594726\n",
       "gibbs_s     6.156111\n",
       "dtype: float64"
      ]
     },
     "execution_count": 29,
     "metadata": {},
     "output_type": "execute_result"
    }
   ],
   "source": [
    "results.mean(axis=0)"
   ]
  },
  {
   "cell_type": "code",
   "execution_count": null,
   "metadata": {},
   "outputs": [],
   "source": []
  }
 ],
 "metadata": {
  "kernelspec": {
   "display_name": "Python 3",
   "language": "python",
   "name": "python3"
  },
  "language_info": {
   "codemirror_mode": {
    "name": "ipython",
    "version": 3
   },
   "file_extension": ".py",
   "mimetype": "text/x-python",
   "name": "python",
   "nbconvert_exporter": "python",
   "pygments_lexer": "ipython3",
   "version": "3.7.1"
  }
 },
 "nbformat": 4,
 "nbformat_minor": 2
}
